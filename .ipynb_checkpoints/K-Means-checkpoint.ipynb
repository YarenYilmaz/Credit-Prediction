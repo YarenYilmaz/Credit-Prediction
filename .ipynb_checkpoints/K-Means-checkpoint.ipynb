{
 "cells": [
  {
   "cell_type": "code",
   "execution_count": 1,
   "metadata": {},
   "outputs": [],
   "source": [
    "import pandas as pd\n",
    "from sklearn.cluster import KMeans\n",
    "from matplotlib import pyplot as plt"
   ]
  },
  {
   "cell_type": "code",
   "execution_count": 2,
   "metadata": {},
   "outputs": [],
   "source": [
    "df = pd.read_csv('./customer_data_genv2.csv', encoding='utf-8')"
   ]
  },
  {
   "cell_type": "code",
   "execution_count": 3,
   "metadata": {},
   "outputs": [
    {
     "data": {
      "text/plain": [
       "Index(['customer_id', 'customer_name', 'customer_surname', 'age', 'gender',\n",
       "       'email', 'phone_number', 'monthlyIncome', 'educationLevel',\n",
       "       'employmentType', 'birthCountryCode', 'cityCode', 'numberOfDependents',\n",
       "       'householdMontlyIncome', 'primaryIdentificationNumber', 'employer',\n",
       "       'krsScore', 'married', 'yearsInCurrentJob', 'creditHistory',\n",
       "       'portfolioScore'],\n",
       "      dtype='object')"
      ]
     },
     "execution_count": 3,
     "metadata": {},
     "output_type": "execute_result"
    }
   ],
   "source": [
    "df.columns"
   ]
  },
  {
   "cell_type": "code",
   "execution_count": 4,
   "metadata": {},
   "outputs": [
    {
     "name": "stdout",
     "output_type": "stream",
     "text": [
      "<class 'pandas.core.frame.DataFrame'>\n",
      "RangeIndex: 200000 entries, 0 to 199999\n",
      "Data columns (total 21 columns):\n",
      " #   Column                       Non-Null Count   Dtype  \n",
      "---  ------                       --------------   -----  \n",
      " 0   customer_id                  200000 non-null  int64  \n",
      " 1   customer_name                200000 non-null  object \n",
      " 2   customer_surname             200000 non-null  object \n",
      " 3   age                          200000 non-null  int64  \n",
      " 4   gender                       200000 non-null  object \n",
      " 5   email                        200000 non-null  object \n",
      " 6   phone_number                 200000 non-null  int64  \n",
      " 7   monthlyIncome                199672 non-null  float64\n",
      " 8   educationLevel               200000 non-null  object \n",
      " 9   employmentType               200000 non-null  object \n",
      " 10  birthCountryCode             200000 non-null  object \n",
      " 11  cityCode                     200000 non-null  int64  \n",
      " 12  numberOfDependents           200000 non-null  int64  \n",
      " 13  householdMontlyIncome        200000 non-null  int64  \n",
      " 14  primaryIdentificationNumber  200000 non-null  object \n",
      " 15  employer                     200000 non-null  object \n",
      " 16  krsScore                     200000 non-null  int64  \n",
      " 17  married                      200000 non-null  object \n",
      " 18  yearsInCurrentJob            200000 non-null  int64  \n",
      " 19  creditHistory                200000 non-null  int64  \n",
      " 20  portfolioScore               200000 non-null  int64  \n",
      "dtypes: float64(1), int64(10), object(10)\n",
      "memory usage: 32.0+ MB\n"
     ]
    }
   ],
   "source": [
    "df.info()"
   ]
  },
  {
   "cell_type": "code",
   "execution_count": 5,
   "metadata": {},
   "outputs": [
    {
     "data": {
      "text/html": [
       "<div>\n",
       "<style scoped>\n",
       "    .dataframe tbody tr th:only-of-type {\n",
       "        vertical-align: middle;\n",
       "    }\n",
       "\n",
       "    .dataframe tbody tr th {\n",
       "        vertical-align: top;\n",
       "    }\n",
       "\n",
       "    .dataframe thead th {\n",
       "        text-align: right;\n",
       "    }\n",
       "</style>\n",
       "<table border=\"1\" class=\"dataframe\">\n",
       "  <thead>\n",
       "    <tr style=\"text-align: right;\">\n",
       "      <th></th>\n",
       "      <th>customer_id</th>\n",
       "      <th>age</th>\n",
       "      <th>phone_number</th>\n",
       "      <th>monthlyIncome</th>\n",
       "      <th>cityCode</th>\n",
       "      <th>numberOfDependents</th>\n",
       "      <th>householdMontlyIncome</th>\n",
       "      <th>krsScore</th>\n",
       "      <th>yearsInCurrentJob</th>\n",
       "      <th>creditHistory</th>\n",
       "      <th>portfolioScore</th>\n",
       "    </tr>\n",
       "  </thead>\n",
       "  <tbody>\n",
       "    <tr>\n",
       "      <th>count</th>\n",
       "      <td>200000.000000</td>\n",
       "      <td>200000.000000</td>\n",
       "      <td>2.000000e+05</td>\n",
       "      <td>199672.000000</td>\n",
       "      <td>200000.000000</td>\n",
       "      <td>200000.000000</td>\n",
       "      <td>200000.000000</td>\n",
       "      <td>200000.000000</td>\n",
       "      <td>200000.000000</td>\n",
       "      <td>200000.00000</td>\n",
       "      <td>200000.000000</td>\n",
       "    </tr>\n",
       "    <tr>\n",
       "      <th>mean</th>\n",
       "      <td>99999.500000</td>\n",
       "      <td>51.019930</td>\n",
       "      <td>9.050014e+11</td>\n",
       "      <td>5001.925969</td>\n",
       "      <td>35.213880</td>\n",
       "      <td>1.046045</td>\n",
       "      <td>1263.074000</td>\n",
       "      <td>1549.895875</td>\n",
       "      <td>5.500125</td>\n",
       "      <td>2.00087</td>\n",
       "      <td>1.993340</td>\n",
       "    </tr>\n",
       "    <tr>\n",
       "      <th>std</th>\n",
       "      <td>57735.171256</td>\n",
       "      <td>19.322718</td>\n",
       "      <td>2.884391e+09</td>\n",
       "      <td>4702.057918</td>\n",
       "      <td>20.525203</td>\n",
       "      <td>0.742306</td>\n",
       "      <td>2090.647884</td>\n",
       "      <td>202.168127</td>\n",
       "      <td>2.871202</td>\n",
       "      <td>1.41328</td>\n",
       "      <td>1.415615</td>\n",
       "    </tr>\n",
       "    <tr>\n",
       "      <th>min</th>\n",
       "      <td>0.000000</td>\n",
       "      <td>18.000000</td>\n",
       "      <td>9.000000e+11</td>\n",
       "      <td>0.000000</td>\n",
       "      <td>0.000000</td>\n",
       "      <td>0.000000</td>\n",
       "      <td>0.000000</td>\n",
       "      <td>1200.000000</td>\n",
       "      <td>1.000000</td>\n",
       "      <td>0.00000</td>\n",
       "      <td>0.000000</td>\n",
       "    </tr>\n",
       "    <tr>\n",
       "      <th>25%</th>\n",
       "      <td>49999.750000</td>\n",
       "      <td>34.000000</td>\n",
       "      <td>9.025067e+11</td>\n",
       "      <td>1873.000000</td>\n",
       "      <td>20.000000</td>\n",
       "      <td>0.000000</td>\n",
       "      <td>0.000000</td>\n",
       "      <td>1375.000000</td>\n",
       "      <td>3.000000</td>\n",
       "      <td>1.00000</td>\n",
       "      <td>1.000000</td>\n",
       "    </tr>\n",
       "    <tr>\n",
       "      <th>50%</th>\n",
       "      <td>99999.500000</td>\n",
       "      <td>51.000000</td>\n",
       "      <td>9.049999e+11</td>\n",
       "      <td>3991.000000</td>\n",
       "      <td>35.000000</td>\n",
       "      <td>1.000000</td>\n",
       "      <td>0.000000</td>\n",
       "      <td>1550.000000</td>\n",
       "      <td>6.000000</td>\n",
       "      <td>2.00000</td>\n",
       "      <td>2.000000</td>\n",
       "    </tr>\n",
       "    <tr>\n",
       "      <th>75%</th>\n",
       "      <td>149999.250000</td>\n",
       "      <td>68.000000</td>\n",
       "      <td>9.074986e+11</td>\n",
       "      <td>7030.000000</td>\n",
       "      <td>47.000000</td>\n",
       "      <td>2.000000</td>\n",
       "      <td>1503.000000</td>\n",
       "      <td>1726.000000</td>\n",
       "      <td>8.000000</td>\n",
       "      <td>3.00000</td>\n",
       "      <td>3.000000</td>\n",
       "    </tr>\n",
       "    <tr>\n",
       "      <th>max</th>\n",
       "      <td>199999.000000</td>\n",
       "      <td>84.000000</td>\n",
       "      <td>9.100000e+11</td>\n",
       "      <td>29996.000000</td>\n",
       "      <td>82.000000</td>\n",
       "      <td>2.000000</td>\n",
       "      <td>9999.000000</td>\n",
       "      <td>1899.000000</td>\n",
       "      <td>10.000000</td>\n",
       "      <td>4.00000</td>\n",
       "      <td>4.000000</td>\n",
       "    </tr>\n",
       "  </tbody>\n",
       "</table>\n",
       "</div>"
      ],
      "text/plain": [
       "         customer_id            age  phone_number  monthlyIncome  \\\n",
       "count  200000.000000  200000.000000  2.000000e+05  199672.000000   \n",
       "mean    99999.500000      51.019930  9.050014e+11    5001.925969   \n",
       "std     57735.171256      19.322718  2.884391e+09    4702.057918   \n",
       "min         0.000000      18.000000  9.000000e+11       0.000000   \n",
       "25%     49999.750000      34.000000  9.025067e+11    1873.000000   \n",
       "50%     99999.500000      51.000000  9.049999e+11    3991.000000   \n",
       "75%    149999.250000      68.000000  9.074986e+11    7030.000000   \n",
       "max    199999.000000      84.000000  9.100000e+11   29996.000000   \n",
       "\n",
       "            cityCode  numberOfDependents  householdMontlyIncome  \\\n",
       "count  200000.000000       200000.000000          200000.000000   \n",
       "mean       35.213880            1.046045            1263.074000   \n",
       "std        20.525203            0.742306            2090.647884   \n",
       "min         0.000000            0.000000               0.000000   \n",
       "25%        20.000000            0.000000               0.000000   \n",
       "50%        35.000000            1.000000               0.000000   \n",
       "75%        47.000000            2.000000            1503.000000   \n",
       "max        82.000000            2.000000            9999.000000   \n",
       "\n",
       "            krsScore  yearsInCurrentJob  creditHistory  portfolioScore  \n",
       "count  200000.000000      200000.000000   200000.00000   200000.000000  \n",
       "mean     1549.895875           5.500125        2.00087        1.993340  \n",
       "std       202.168127           2.871202        1.41328        1.415615  \n",
       "min      1200.000000           1.000000        0.00000        0.000000  \n",
       "25%      1375.000000           3.000000        1.00000        1.000000  \n",
       "50%      1550.000000           6.000000        2.00000        2.000000  \n",
       "75%      1726.000000           8.000000        3.00000        3.000000  \n",
       "max      1899.000000          10.000000        4.00000        4.000000  "
      ]
     },
     "execution_count": 5,
     "metadata": {},
     "output_type": "execute_result"
    }
   ],
   "source": [
    "df.describe()"
   ]
  },
  {
   "cell_type": "code",
   "execution_count": 6,
   "metadata": {},
   "outputs": [
    {
     "data": {
      "text/plain": [
       "Index(['customer_name', 'customer_surname', 'gender', 'email',\n",
       "       'educationLevel', 'employmentType', 'birthCountryCode',\n",
       "       'primaryIdentificationNumber', 'employer', 'married'],\n",
       "      dtype='object')"
      ]
     },
     "execution_count": 6,
     "metadata": {},
     "output_type": "execute_result"
    }
   ],
   "source": [
    "obj_df = df.select_dtypes(include=['object']).copy()\n",
    "obj_df.columns"
   ]
  },
  {
   "cell_type": "code",
   "execution_count": 7,
   "metadata": {},
   "outputs": [
    {
     "data": {
      "text/plain": [
       "Female    200000\n",
       "Name: gender, dtype: int64"
      ]
     },
     "execution_count": 7,
     "metadata": {},
     "output_type": "execute_result"
    }
   ],
   "source": [
    "obj_df[\"gender\"].value_counts()"
   ]
  },
  {
   "cell_type": "code",
   "execution_count": 8,
   "metadata": {},
   "outputs": [
    {
     "data": {
      "text/plain": [
       "Bachelor       119833\n",
       "High School     40055\n",
       "Master          20081\n",
       "Doctoral        10090\n",
       "Primary          9941\n",
       "Name: educationLevel, dtype: int64"
      ]
     },
     "execution_count": 8,
     "metadata": {},
     "output_type": "execute_result"
    }
   ],
   "source": [
    "obj_df[\"educationLevel\"].value_counts()"
   ]
  },
  {
   "cell_type": "code",
   "execution_count": 9,
   "metadata": {},
   "outputs": [
    {
     "data": {
      "text/plain": [
       "Full Time        74841\n",
       "Unemployed       36494\n",
       "Self Employed    27871\n",
       "Casual           20034\n",
       "Retired          18314\n",
       "Part Time        11765\n",
       "Student          10681\n",
       "Name: employmentType, dtype: int64"
      ]
     },
     "execution_count": 9,
     "metadata": {},
     "output_type": "execute_result"
    }
   ],
   "source": [
    "obj_df[\"employmentType\"].value_counts()"
   ]
  },
  {
   "cell_type": "code",
   "execution_count": 10,
   "metadata": {},
   "outputs": [
    {
     "data": {
      "text/plain": [
       "TR    200000\n",
       "Name: birthCountryCode, dtype: int64"
      ]
     },
     "execution_count": 10,
     "metadata": {},
     "output_type": "execute_result"
    }
   ],
   "source": [
    "obj_df[\"birthCountryCode\"].value_counts()"
   ]
  },
  {
   "cell_type": "code",
   "execution_count": 11,
   "metadata": {},
   "outputs": [
    {
     "data": {
      "text/plain": [
       "-    200000\n",
       "Name: primaryIdentificationNumber, dtype: int64"
      ]
     },
     "execution_count": 11,
     "metadata": {},
     "output_type": "execute_result"
    }
   ],
   "source": [
    "obj_df[\"primaryIdentificationNumber\"].value_counts()"
   ]
  },
  {
   "cell_type": "code",
   "execution_count": 12,
   "metadata": {},
   "outputs": [
    {
     "data": {
      "text/plain": [
       "-    200000\n",
       "Name: employer, dtype: int64"
      ]
     },
     "execution_count": 12,
     "metadata": {},
     "output_type": "execute_result"
    }
   ],
   "source": [
    "obj_df[\"employer\"].value_counts()"
   ]
  },
  {
   "cell_type": "code",
   "execution_count": 14,
   "metadata": {},
   "outputs": [],
   "source": [
    "# for now drop these columns gender,birthCountryCode,primaryIdentificationNumber,employer and married\n",
    "# educationLevel and employmentType attributes will be converted into numerical"
   ]
  },
  {
   "cell_type": "code",
   "execution_count": 15,
   "metadata": {},
   "outputs": [],
   "source": [
    "# convert two attribute to numerical values\n",
    "temp_df = df.copy()\n",
    "temp_df = pd.get_dummies(temp_df, columns=[\"educationLevel\", \"employmentType\"], dtype='int64')"
   ]
  },
  {
   "cell_type": "code",
   "execution_count": 16,
   "metadata": {},
   "outputs": [
    {
     "data": {
      "text/plain": [
       "Index(['age', 'monthlyIncome', 'cityCode', 'numberOfDependents',\n",
       "       'householdMontlyIncome', 'krsScore', 'yearsInCurrentJob',\n",
       "       'creditHistory', 'portfolioScore', 'educationLevel_Bachelor',\n",
       "       'educationLevel_Doctoral', 'educationLevel_High School',\n",
       "       'educationLevel_Master', 'educationLevel_Primary',\n",
       "       'employmentType_Casual', 'employmentType_Full Time',\n",
       "       'employmentType_Part Time', 'employmentType_Retired',\n",
       "       'employmentType_Self Employed', 'employmentType_Student',\n",
       "       'employmentType_Unemployed'],\n",
       "      dtype='object')"
      ]
     },
     "execution_count": 16,
     "metadata": {},
     "output_type": "execute_result"
    }
   ],
   "source": [
    "# drop the unnecessary columns\n",
    "temp_df = temp_df.drop([\"gender\",\"birthCountryCode\",\"primaryIdentificationNumber\", \"employer\",\n",
    "              \"married\",\"customer_name\", \"customer_surname\",\"email\",\"customer_id\",\"phone_number\"],\n",
    "             axis=1)\n",
    "temp_df.columns"
   ]
  },
  {
   "cell_type": "code",
   "execution_count": 17,
   "metadata": {},
   "outputs": [],
   "source": [
    "# convert monthlyIncome attribute from float64 type to int64 type\n",
    "temp_df = temp_df.fillna(0)\n",
    "temp_df = temp_df.astype({\"monthlyIncome\": 'int64'})\n",
    "#df[\"monthlyIncome\"]"
   ]
  },
  {
   "cell_type": "code",
   "execution_count": 18,
   "metadata": {},
   "outputs": [],
   "source": [
    "# try once with normalizing data and once not normalizing data\n",
    "df_copy = temp_df.copy()"
   ]
  },
  {
   "cell_type": "code",
   "execution_count": 19,
   "metadata": {},
   "outputs": [],
   "source": [
    "# Normalize the columns\n",
    "# WE DIDN'T NORMALIZE COLUMNS BECAUSE IT AFFECTS THE PREDICTED RESULTS\n",
    "# cols_to_norm = [\"age\",\"monthlyIncome\",\"cityCode\",\"numberOfDependents\",\"householdMontlyIncome\",\"krsScore\",\"yearsInCurrentJob\",\"creditHistory\",\"portfolioScore\"]\n",
    "# df_copy[cols_to_norm] = temp_df[cols_to_norm].apply(lambda x: (x - x.min()) / (x.max() - x.min()))"
   ]
  },
  {
   "cell_type": "code",
   "execution_count": 20,
   "metadata": {},
   "outputs": [],
   "source": [
    "# THERE ARE 3 DIFFERENT VERSION TO FIND THE BEST K VALUE"
   ]
  },
  {
   "cell_type": "code",
   "execution_count": 21,
   "metadata": {},
   "outputs": [
    {
     "data": {
      "image/png": "[encoded data removed]",
      "text/plain": [
       "<Figure size 432x288 with 1 Axes>"
      ]
     },
     "metadata": {
      "needs_background": "light"
     },
     "output_type": "display_data"
    }
   ],
   "source": [
    "#VERSION 1\n",
    "wcss = []\n",
    "\n",
    "for i in range(1, 11):\n",
    "    kmeans = KMeans(n_clusters=i, init='k-means++', max_iter=300, n_init=10, random_state=0)\n",
    "    kmeans.fit(temp_df)\n",
    "    wcss.append(kmeans.inertia_)\n",
    "    \n",
    "plt.plot(range(1, 11), wcss)\n",
    "plt.title('Elbow Method')\n",
    "plt.xlabel('Number of clusters')\n",
    "plt.ylabel('WCSS')\n",
    "plt.show()\n",
    "\n",
    "# K = 4"
   ]
  },
  {
   "cell_type": "code",
   "execution_count": 22,
   "metadata": {},
   "outputs": [
    {
     "name": "stderr",
     "output_type": "stream",
     "text": [
      "/home/yaren/anaconda3/lib/python3.7/site-packages/sklearn/utils/deprecation.py:144: FutureWarning: The sklearn.metrics.classification module is  deprecated in version 0.22 and will be removed in version 0.24. The corresponding classes / functions should instead be imported from sklearn.metrics. Anything that cannot be imported from sklearn.metrics is now part of the private API.\n",
      "  warnings.warn(message, FutureWarning)\n"
     ]
    },
    {
     "data": {
      "image/png": "[encoded data removed]",
      "text/plain": [
       "<Figure size 576x396 with 2 Axes>"
      ]
     },
     "metadata": {},
     "output_type": "display_data"
    },
    {
     "data": {
      "text/plain": [
       "<matplotlib.axes._subplots.AxesSubplot at 0x7f98ec0c6690>"
      ]
     },
     "execution_count": 22,
     "metadata": {},
     "output_type": "execute_result"
    }
   ],
   "source": [
    "# VERSION 2\n",
    "from yellowbrick.cluster import KElbowVisualizer\n",
    "\n",
    "model = KMeans()\n",
    "visualizer = KElbowVisualizer(model, k=(1,12))\n",
    "\n",
    "visualizer.fit(temp_df)        \n",
    "visualizer.show()     \n",
    "\n",
    "# K = 4"
   ]
  },
  {
   "cell_type": "code",
   "execution_count": 23,
   "metadata": {},
   "outputs": [
    {
     "data": {
      "image/png": "[encoded data removed]",
      "text/plain": [
       "<Figure size 576x396 with 2 Axes>"
      ]
     },
     "metadata": {},
     "output_type": "display_data"
    },
    {
     "name": "stderr",
     "output_type": "stream",
     "text": [
      "/home/yaren/anaconda3/lib/python3.7/site-packages/sklearn/base.py:197: FutureWarning: From version 0.24, get_params will raise an AttributeError if a parameter cannot be retrieved as an instance attribute. Previously it would return None.\n",
      "  FutureWarning)\n"
     ]
    },
    {
     "data": {
      "text/plain": [
       "KElbowVisualizer(ax=<matplotlib.axes._subplots.AxesSubplot object at 0x7f98e8bdfd90>,\n",
       "                 k=None, locate_elbow=True, metric='distortion', model=None,\n",
       "                 timings=True)"
      ]
     },
     "execution_count": 23,
     "metadata": {},
     "output_type": "execute_result"
    }
   ],
   "source": [
    "from yellowbrick.cluster.elbow import kelbow_visualizer\n",
    "\n",
    "kelbow_visualizer(KMeans(random_state=4), temp_df, k=(2,10))\n",
    "\n",
    "# K = 4"
   ]
  },
  {
   "cell_type": "code",
   "execution_count": 24,
   "metadata": {},
   "outputs": [],
   "source": [
    "# AT THE END OF THE VERSIONS, 4 IS CHOOSEN AS THE BEST K VALUE"
   ]
  },
  {
   "cell_type": "code",
   "execution_count": 25,
   "metadata": {},
   "outputs": [],
   "source": [
    "# K MEANS\n",
    "kmeans = KMeans(n_clusters=4\n",
    "                , init ='k-means++', max_iter=300, n_init=10,random_state=0 )\n",
    "y_kmeans = kmeans.fit(temp_df)"
   ]
  },
  {
   "cell_type": "code",
   "execution_count": 26,
   "metadata": {},
   "outputs": [
    {
     "data": {
      "text/plain": [
       "array([3, 2, 0, ..., 2, 2, 0], dtype=int32)"
      ]
     },
     "execution_count": 26,
     "metadata": {},
     "output_type": "execute_result"
    }
   ],
   "source": [
    "# fit the df to the k means\n",
    "# y_kmeans.cluster_centers_\n",
    "y_kmeans.predict([[49,10513,35,2,5556,1389,6,2,2,0,0,0,1,0,0,0,0,1,0,0,0]]) #right predicted 1.line\n",
    "y_kmeans.predict([[66,1702,78,2,0,1562,9,3,2,1,0,0,0,0,0,0,0,1,0,0,0]]) # right predicted 2.line\n",
    "y_kmeans.predict([[40,5300,55,1,2331,1727,5,3,2,0,0,1,0,0,0,0,0,0,1,0,0]]) # right predicted 3.line\n",
    "y_kmeans.labels_\n",
    "\n",
    "# y_kmeans.inertia_\n",
    "# y_kmeans.n_iter_"
   ]
  },
  {
   "cell_type": "code",
   "execution_count": 27,
   "metadata": {},
   "outputs": [
    {
     "name": "stderr",
     "output_type": "stream",
     "text": [
      "/home/yaren/anaconda3/lib/python3.7/site-packages/sklearn/externals/joblib/__init__.py:15: FutureWarning: sklearn.externals.joblib is deprecated in 0.21 and will be removed in 0.23. Please import this functionality directly from joblib, which can be installed with: pip install joblib. If this warning is raised when loading pickled models, you may need to re-serialize those models with scikit-learn 0.21+.\n",
      "  warnings.warn(msg, category=FutureWarning)\n"
     ]
    }
   ],
   "source": [
    "# save the model to use it whenever we want\n",
    "from sklearn.externals import joblib\n",
    "joblib.dump(kmeans, 'model.pkl')  \n",
    "model_loaded = joblib.load('model.pkl')"
   ]
  },
  {
   "cell_type": "code",
   "execution_count": 28,
   "metadata": {},
   "outputs": [
    {
     "data": {
      "text/plain": [
       "2    93222\n",
       "0    65475\n",
       "3    35947\n",
       "1     5356\n",
       "Name: cluster, dtype: int64"
      ]
     },
     "execution_count": 28,
     "metadata": {},
     "output_type": "execute_result"
    }
   ],
   "source": [
    "# concat the dataframe with the predicted clusters by k means\n",
    "df_with_clusters = temp_df.copy()\n",
    "df_with_clusters[\"cluster\"] = pd.DataFrame(model_loaded.labels_)\n",
    "# len(df[df[\"cluster\"]==3])\n",
    "df_with_clusters[\"cluster\"].value_counts() # we have 4 clusters\n"
   ]
  },
  {
   "cell_type": "code",
   "execution_count": 29,
   "metadata": {},
   "outputs": [],
   "source": [
    "# PREDICT THE CLUSTER OF THE POİNT\n",
    "# SELECT ALL THE POINTS FROM THAT CLUSTER\n",
    "a = [[49,10513,35,2,5556,1389,6,2,2,0,0,0,1,0,0,0,0,1,0,0,0]]\n",
    "cluster_no = model_loaded.predict(a)[0]\n",
    "\n",
    "df_selected_cluster_points = df_with_clusters[df_with_clusters[\"cluster\"]==cluster_no]"
   ]
  },
  {
   "cell_type": "code",
   "execution_count": 30,
   "metadata": {},
   "outputs": [],
   "source": [
    "\n",
    "# now find the closest point from df_selected_cluster_points to the our data point\n",
    "from sklearn.metrics import pairwise_distances\n",
    "\n",
    "pair_dist = pairwise_distances(df_selected_cluster_points.loc[:, df_selected_cluster_points.columns != 'cluster'],\n",
    "                               a, metric='euclidean')\n",
    "# closest, _ = pairwise_distances_argmin_min(model_loaded.cluster_centers_, a)\n",
    "selected_id = pair_dist.argmin() # get the index of the min element"
   ]
  },
  {
   "cell_type": "code",
   "execution_count": 31,
   "metadata": {},
   "outputs": [
    {
     "data": {
      "text/plain": [
       "customer_id                                         0\n",
       "customer_name                                   DAVUT\n",
       "customer_surname                               HATICE\n",
       "age                                                49\n",
       "gender                                         Female\n",
       "email                          DAVUT.HATICE@gmail.com\n",
       "phone_number                             900448591943\n",
       "monthlyIncome                                   10513\n",
       "educationLevel                                 Master\n",
       "employmentType                                Retired\n",
       "birthCountryCode                                   TR\n",
       "cityCode                                           35\n",
       "numberOfDependents                                  2\n",
       "householdMontlyIncome                            5556\n",
       "primaryIdentificationNumber                         -\n",
       "employer                                            -\n",
       "krsScore                                         1389\n",
       "married                                             l\n",
       "yearsInCurrentJob                                   6\n",
       "creditHistory                                       2\n",
       "portfolioScore                                      2\n",
       "Name: 0, dtype: object"
      ]
     },
     "execution_count": 31,
     "metadata": {},
     "output_type": "execute_result"
    }
   ],
   "source": [
    "# get the selected customer from the df\n",
    "df.loc[selected_id,:]"
   ]
  }
 ],
 "metadata": {
  "kernelspec": {
   "display_name": "Python 3",
   "language": "python",
   "name": "python3"
  },
  "language_info": {
   "codemirror_mode": {
    "name": "ipython",
    "version": 3
   },
   "file_extension": ".py",
   "mimetype": "text/x-python",
   "name": "python",
   "nbconvert_exporter": "python",
   "pygments_lexer": "ipython3",
   "version": "3.7.6"
  }
 },
 "nbformat": 4,
 "nbformat_minor": 4
}
